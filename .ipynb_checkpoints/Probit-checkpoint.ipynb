{
 "cells": [
  {
   "cell_type": "code",
   "execution_count": 1,
   "metadata": {
    "collapsed": true
   },
   "outputs": [],
   "source": [
    "from __future__ import print_function\n",
    "import numpy as np\n",
    "from scipy import stats\n",
    "import statsmodels.api as sm\n",
    "from statsmodels.base.model import GenericLikelihoodModel"
   ]
  },
  {
   "cell_type": "markdown",
   "metadata": {},
   "source": [
    "The data listed in Appendix Table F21.1 were taken from a study by Spector and Mazzeo\n",
    "(1980), which examined whether a new method of teaching economics, the Personalized\n",
    "System of Instruction (PSI), significantly influenced performance in later economics courses.\n",
    "The \"dependent variable\" used in our application is GRADE, which indicates the whether\n",
    "a student's grade in an intermediate macroeconomics course was higher than that in the\n",
    "principles course. The other variables are GPA, their grade point average; TUCE, the score\n",
    "on a pretest that indicates entering knowledge of the material; and PSI, the binary variable\n",
    "indicator of whether the student was exposed to the new teaching method. (Spector and\n",
    "Mazzeo's specific equation was somewhat different from the one estimated here.)"
   ]
  },
  {
   "cell_type": "markdown",
   "metadata": {},
   "source": [
    "### DATASET DESCRIPTION"
   ]
  },
  {
   "cell_type": "code",
   "execution_count": 3,
   "metadata": {
    "collapsed": false
   },
   "outputs": [],
   "source": [
    "data = sm.datasets.spector.load_pandas()"
   ]
  },
  {
   "cell_type": "code",
   "execution_count": 4,
   "metadata": {
    "collapsed": false
   },
   "outputs": [
    {
     "name": "stdout",
     "output_type": "stream",
     "text": [
      "::\n",
      "\n",
      "    Number of Observations - 32\n",
      "\n",
      "    Number of Variables - 4\n",
      "\n",
      "    Variable name definitions::\n",
      "\n",
      "        Grade - binary variable indicating whether or not a student's grade\n",
      "                improved.  1 indicates an improvement.\n",
      "        TUCE  - Test score on economics test\n",
      "        PSI   - participation in program\n",
      "        GPA   - Student's grade point average\n",
      "\n"
     ]
    }
   ],
   "source": [
    "print(sm.datasets.spector.NOTE)"
   ]
  },
  {
   "cell_type": "markdown",
   "metadata": {},
   "source": [
    "#### INDEPENDENT VARIABLES\n",
    "In Our Case Independent Variables would be :\n",
    "- Number of adopter neighbors \n",
    "- Time ?? Since the neighbor because adopted ?\n",
    "\n",
    "I believe currenly ou"
   ]
  }
 ],
 "metadata": {
  "kernelspec": {
   "display_name": "Python 2",
   "language": "python",
   "name": "python2"
  },
  "language_info": {
   "codemirror_mode": {
    "name": "ipython",
    "version": 2.0
   },
   "file_extension": ".py",
   "mimetype": "text/x-python",
   "name": "python",
   "nbconvert_exporter": "python",
   "pygments_lexer": "ipython2",
   "version": "2.7.10"
  }
 },
 "nbformat": 4,
 "nbformat_minor": 0
}