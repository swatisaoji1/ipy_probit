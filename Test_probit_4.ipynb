{
 "cells": [
  {
   "cell_type": "code",
   "execution_count": 1,
   "metadata": {
    "collapsed": true
   },
   "outputs": [],
   "source": [
    "from __future__ import print_function\n",
    "import numpy as np\n",
    "from scipy import stats\n",
    "import statsmodels.api as sm\n",
    "from statsmodels.base.model import GenericLikelihoodModel"
   ]
  },
  {
   "cell_type": "markdown",
   "metadata": {},
   "source": [
    "<img src=\"formula.png\">"
   ]
  },
  {
   "cell_type": "markdown",
   "metadata": {},
   "source": [
    "Using the terminology in the python library to sum up the likelihood function, we will need to make several adjustments:\n",
    "class MyProbit(GenericLikelihoodModel):\n",
    "```python\n",
    "    def loglike(self, params):\n",
    "        exog = self.exog\n",
    "        endog = self.endog \n",
    "        r = 2*endog - 1\n",
    "        return stats.norm.logcdf(r*np.dot(exog, params)).sum()\n",
    "```\n",
    "\n",
    "1.\tInputs of mi(t) for each node I at each time period t\n",
    "2.  Adding up over time periods for each node or vice versa (one more sum() procedure)\n",
    "3.  We will not be able to directly apply the simplified approach to coding the log-likelihood function in the following way: \n",
    "\n",
    "ln L= _i ln F(qi xiβ). \n",
    "\n",
    "Instead, we will need to use conditional statements to separate the cases for y = 0’s and y=1’s and then sum up their respective contributions. The parts of Y=1s are complicated and cannot be simplified.  \n",
    "Note that “stats.norm.logcdf(r*np.dot(exog, params))” is the counterpart of (F(XB)or F(-XB) depending on r = 1 or -1) in my Log-Likelihood specification.\n"
   ]
  },
  {
   "cell_type": "markdown",
   "metadata": {},
   "source": [
    "#### pseudo code\n",
    "\n",
    "```python\n",
    "'''\n",
    "input : graph with tags adopted / no adopted, and edges indicating neighbors, edges with attributes indicating week1,week2 etc\n",
    "'''\n",
    "def loglike(self, params):\n",
    "    log_likelihood  = 0\n",
    "    for each_week:\n",
    "        get all nodes which were non-adopted last week and their adopted neighbors count(last week)\n",
    "        \n",
    "        for each of these nodes: # there are 2 scenes\n",
    "            \n",
    "            if node is non adopted # did not get inflenced\n",
    "               log_likelihood += stats.norm.logcdf((-1 * (params * 1)^adopted_neighbors))# 1 is exog - constant\n",
    "            if node is adopted # got inflenced\n",
    "               log_likelihood += stats.norm.logcdf((1 * (params * 1) ^ adopted_neighbors))\n",
    "               \n",
    "     return log_likelihood\n",
    "\n",
    "\n",
    "\n",
    "```"
   ]
  },
  {
   "cell_type": "code",
   "execution_count": null,
   "metadata": {
    "collapsed": true
   },
   "outputs": [],
   "source": []
  }
 ],
 "metadata": {
  "kernelspec": {
   "display_name": "Python 2",
   "language": "python",
   "name": "python2"
  },
  "language_info": {
   "codemirror_mode": {
    "name": "ipython",
    "version": 2
   },
   "file_extension": ".py",
   "mimetype": "text/x-python",
   "name": "python",
   "nbconvert_exporter": "python",
   "pygments_lexer": "ipython2",
   "version": "2.7.10"
  }
 },
 "nbformat": 4,
 "nbformat_minor": 2
}
