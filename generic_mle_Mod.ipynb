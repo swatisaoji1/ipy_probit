{
 "cells": [
  {
   "cell_type": "markdown",
   "metadata": {},
   "source": [
    "# Maximum Likelihood Estimation (Generic models)"
   ]
  },
  {
   "cell_type": "code",
   "execution_count": null,
   "metadata": {},
   "outputs": [],
   "source": [
    "from __future__ import print_function\n",
    "import numpy as np\n",
    "from scipy import stats\n",
    "import statsmodels.api as sm\n",
    "from statsmodels.base.model import GenericLikelihoodModel"
   ]
  },
  {
   "cell_type": "markdown",
   "metadata": {},
   "source": [
    "The data listed in Appendix Table F21.1 were taken from a study by Spector and Mazzeo\n",
    "(1980), which examined whether a new method of teaching economics, the Personalized\n",
    "System of Instruction (PSI), significantly influenced performance in later economics courses.\n",
    "The \"dependent variable\" used in our application is GRADE, which indicates the whether\n",
    "a student's grade in an intermediate macroeconomics course was higher than that in the\n",
    "principles course. The other variables are GPA, their grade point average; TUCE, the score\n",
    "on a pretest that indicates entering knowledge of the material; and PSI, the binary variable\n",
    "indicator of whether the student was exposed to the new teaching method. (Spector and\n",
    "Mazzeo's specific equation was somewhat different from the one estimated here.)"
   ]
  },
  {
   "cell_type": "code",
   "execution_count": null,
   "metadata": {
    "collapsed": false
   },
   "outputs": [],
   "source": [
    "from __future__ import print_function\n",
    "import numpy as np\n",
    "from scipy import stats\n",
    "import statsmodels.api as sm\n",
    "from statsmodels.base.model import GenericLikelihoodModel"
   ]
  },
  {
   "cell_type": "markdown",
   "metadata": {},
   "source": [
    "The ``Spector`` dataset is distributed with ``statsmodels``. You can access a vector of values for the dependent variable (``endog``) and a matrix of regressors (``exog``) like this:"
   ]
  },
  {
   "cell_type": "code",
   "execution_count": null,
   "metadata": {
    "collapsed": false
   },
   "outputs": [],
   "source": [
    "data = sm.datasets.spector.load_pandas()\n",
    "exog = data.exog\n",
    "endog = data.endog\n",
    "print(sm.datasets.spector.NOTE)\n",
    "print(data.exog.head())"
   ]
  },
  {
   "cell_type": "markdown",
   "metadata": {},
   "source": [
    "Them, we add a constant to the matrix of regressors:"
   ]
  },
  {
   "cell_type": "code",
   "execution_count": null,
   "metadata": {
    "collapsed": false
   },
   "outputs": [],
   "source": [
    "exog = sm.add_constant(exog, prepend=True)"
   ]
  },
  {
   "cell_type": "markdown",
   "metadata": {},
   "source": [
    "To create your own Likelihood Model, you simply need to overwrite the loglike method."
   ]
  },
  {
   "cell_type": "code",
   "execution_count": null,
   "metadata": {
    "collapsed": false
   },
   "outputs": [],
   "source": [
    "class MyProbit(GenericLikelihoodModel):\n",
    "    def loglike(self, params):\n",
    "        exog = self.exog\n",
    "        endog = self.endog\n",
    "        q = 2 * endog - 1\n",
    "        return stats.norm.logcdf(q*np.dot(exog, params)).sum()"
   ]
  },
  {
   "cell_type": "markdown",
   "metadata": {},
   "source": [
    "Estimate the model and print a summary:"
   ]
  },
  {
   "cell_type": "code",
   "execution_count": null,
   "metadata": {
    "collapsed": false
   },
   "outputs": [],
   "source": [
    "sm_probit_manual = MyProbit(endog, exog).fit()\n",
    "print(sm_probit_manual.summary())"
   ]
  },
  {
   "cell_type": "markdown",
   "metadata": {},
   "source": [
    "Compare your Probit implementation to ``statsmodels``' \"canned\" implementation:"
   ]
  },
  {
   "cell_type": "code",
   "execution_count": null,
   "metadata": {
    "collapsed": false
   },
   "outputs": [],
   "source": [
    "sm_probit_canned = sm.Probit(endog, exog).fit()"
   ]
  },
  {
   "cell_type": "code",
   "execution_count": null,
   "metadata": {
    "collapsed": false
   },
   "outputs": [],
   "source": [
    "print(sm_probit_canned.params)\n",
    "print(sm_probit_manual.params)"
   ]
  },
  {
   "cell_type": "code",
   "execution_count": null,
   "metadata": {
    "collapsed": false
   },
   "outputs": [],
   "source": [
    "print(sm_probit_canned.cov_params())\n",
    "print(sm_probit_manual.cov_params())"
   ]
  },
  {
   "cell_type": "markdown",
   "metadata": {},
   "source": [
    "Notice that the ``GenericMaximumLikelihood`` class provides automatic differentiation, so we didn't have to provide Hessian or Score functions in order to calculate the covariance estimates."
   ]
  },
  {
   "cell_type": "markdown",
   "metadata": {},
   "source": [
    "\n",
    "\n",
    "## Example 2: Negative Binomial Regression for Count Data\n",
    "\n",
    "Consider a negative binomial regression model for count data with\n",
    "log-likelihood (type NB-2) function expressed as:\n",
    "\n",
    "$$\n",
    "    \\mathcal{L}(\\beta_j; y, \\alpha) = \\sum_{i=1}^n y_i ln \n",
    "    \\left ( \\frac{\\alpha exp(X_i'\\beta)}{1+\\alpha exp(X_i'\\beta)} \\right ) -\n",
    "    \\frac{1}{\\alpha} ln(1+\\alpha exp(X_i'\\beta)) + ln \\Gamma (y_i + 1/\\alpha) - ln \\Gamma (y_i+1) - ln \\Gamma (1/\\alpha)\n",
    "$$\n",
    "\n",
    "with a matrix of regressors $X$, a vector of coefficients $\\beta$,\n",
    "and the negative binomial heterogeneity parameter $\\alpha$. \n",
    "\n",
    "Using the ``nbinom`` distribution from ``scipy``, we can write this likelihood\n",
    "simply as:\n"
   ]
  },
  {
   "cell_type": "code",
   "execution_count": null,
   "metadata": {
    "collapsed": false
   },
   "outputs": [],
   "source": [
    "import numpy as np\n",
    "from scipy.stats import nbinom"
   ]
  },
  {
   "cell_type": "code",
   "execution_count": null,
   "metadata": {
    "collapsed": false
   },
   "outputs": [],
   "source": [
    "def _ll_nb2(y, X, beta, alph):\n",
    "    mu = np.exp(np.dot(X, beta))\n",
    "    size = 1/alph\n",
    "    prob = size/(size+mu)\n",
    "    ll = nbinom.logpmf(y, size, prob)\n",
    "    return ll"
   ]
  },
  {
   "cell_type": "markdown",
   "metadata": {},
   "source": [
    "### New Model Class\n",
    "\n",
    "We create a new model class which inherits from ``GenericLikelihoodModel``:"
   ]
  },
  {
   "cell_type": "code",
   "execution_count": null,
   "metadata": {
    "collapsed": false
   },
   "outputs": [],
   "source": [
    "from statsmodels.base.model import GenericLikelihoodModel"
   ]
  },
  {
   "cell_type": "code",
   "execution_count": null,
   "metadata": {
    "collapsed": false
   },
   "outputs": [],
   "source": [
    "class NBin(GenericLikelihoodModel):\n",
    "    def __init__(self, endog, exog, **kwds):\n",
    "        super(NBin, self).__init__(endog, exog, **kwds)\n",
    "        \n",
    "    def nloglikeobs(self, params):\n",
    "        alph = params[-1]\n",
    "        beta = params[:-1]\n",
    "        ll = _ll_nb2(self.endog, self.exog, beta, alph)\n",
    "        return -ll \n",
    "    \n",
    "    def fit(self, start_params=None, maxiter=10000, maxfun=5000, **kwds):\n",
    "        # we have one additional parameter and we need to add it for summary\n",
    "        self.exog_names.append('alpha')\n",
    "        if start_params == None:\n",
    "            # Reasonable starting values\n",
    "            start_params = np.append(np.zeros(self.exog.shape[1]), .5)\n",
    "            # intercept\n",
    "            start_params[-2] = np.log(self.endog.mean())\n",
    "        return super(NBin, self).fit(start_params=start_params, \n",
    "                                     maxiter=maxiter, maxfun=maxfun, \n",
    "                                     **kwds)"
   ]
  },
  {
   "cell_type": "markdown",
   "metadata": {},
   "source": [
    "Two important things to notice: \n",
    "\n",
    "+ ``nloglikeobs``: This function should return one evaluation of the negative log-likelihood function per observation in your dataset (i.e. rows of the endog/X matrix). \n",
    "+ ``start_params``: A one-dimensional array of starting values needs to be provided. The size of this array determines the number of parameters that will be used in optimization.\n",
    "   \n",
    "That's it! You're done!\n",
    "\n",
    "### Usage Example\n",
    "\n",
    "The [Medpar](http://vincentarelbundock.github.com/Rdatasets/doc/COUNT/medpar.html)\n",
    "dataset is hosted in CSV format at the [Rdatasets repository](http://vincentarelbundock.github.com/Rdatasets). We use the ``read_csv``\n",
    "function from the [Pandas library](http://pandas.pydata.org) to load the data\n",
    "in memory. We then print the first few columns: \n"
   ]
  },
  {
   "cell_type": "code",
   "execution_count": null,
   "metadata": {
    "collapsed": false
   },
   "outputs": [],
   "source": [
    "import statsmodels.api as sm"
   ]
  },
  {
   "cell_type": "code",
   "execution_count": null,
   "metadata": {
    "collapsed": false
   },
   "outputs": [],
   "source": [
    "medpar = sm.datasets.get_rdataset(\"medpar\", \"COUNT\", cache=True).data\n",
    "\n",
    "medpar.head()"
   ]
  },
  {
   "cell_type": "markdown",
   "metadata": {},
   "source": [
    "The model we are interested in has a vector of non-negative integers as\n",
    "dependent variable (``los``), and 5 regressors: ``Intercept``, ``type2``,\n",
    "``type3``, ``hmo``, ``white``.\n",
    "\n",
    "For estimation, we need to create two variables to hold our regressors and the outcome variable. These can be ndarrays or pandas objects."
   ]
  },
  {
   "cell_type": "code",
   "execution_count": null,
   "metadata": {
    "collapsed": false
   },
   "outputs": [],
   "source": [
    "y = medpar.los\n",
    "X = medpar[[\"type2\", \"type3\", \"hmo\", \"white\"]].copy()\n",
    "X[\"constant\"] = 1"
   ]
  },
  {
   "cell_type": "markdown",
   "metadata": {},
   "source": [
    "Then, we fit the model and extract some information: "
   ]
  },
  {
   "cell_type": "code",
   "execution_count": null,
   "metadata": {
    "collapsed": false
   },
   "outputs": [],
   "source": [
    "mod = NBin(y, X)\n",
    "res = mod.fit()"
   ]
  },
  {
   "cell_type": "markdown",
   "metadata": {},
   "source": [
    " Extract parameter estimates, standard errors, p-values, AIC, etc.:"
   ]
  },
  {
   "cell_type": "code",
   "execution_count": null,
   "metadata": {
    "collapsed": false
   },
   "outputs": [],
   "source": [
    "print('Parameters: ', res.params)\n",
    "print('Standard errors: ', res.bse)\n",
    "print('P-values: ', res.pvalues)\n",
    "print('AIC: ', res.aic)"
   ]
  },
  {
   "cell_type": "markdown",
   "metadata": {},
   "source": [
    "As usual, you can obtain a full list of available information by typing\n",
    "``dir(res)``.\n",
    "We can also look at the summary of the estimation results."
   ]
  },
  {
   "cell_type": "code",
   "execution_count": null,
   "metadata": {
    "collapsed": false
   },
   "outputs": [],
   "source": [
    "print(res.summary())"
   ]
  },
  {
   "cell_type": "markdown",
   "metadata": {},
   "source": [
    "### Testing"
   ]
  }
 ],
 "metadata": {
  "kernelspec": {
   "display_name": "Python 3",
   "language": "python",
   "name": "python3"
  },
  "language_info": {
   "codemirror_mode": {
    "name": "ipython",
    "version": 3.0
   },
   "file_extension": ".py",
   "mimetype": "text/x-python",
   "name": "python",
   "nbconvert_exporter": "python",
   "pygments_lexer": "ipython3",
   "version": "3.4.3"
  }
 },
 "nbformat": 4,
 "nbformat_minor": 0
}