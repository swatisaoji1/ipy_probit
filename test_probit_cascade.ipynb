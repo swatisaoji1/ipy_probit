{
 "cells": [
  {
   "cell_type": "markdown",
   "metadata": {},
   "source": [
    "### Theory\n",
    "\n",
    "- $ y_i = 1$  if probability is $ P_i $\n",
    "- $ y_i = 0$  if probability is $ 1-P_i $\n",
    "\n",
    "For n such observations Likehood function is \n",
    " $$\n",
    " L= \\prod_{i=0}^n P_i^{y_i}(1-P_i)^{1-y_i}\n",
    " $$\n",
    " \n",
    " \n",
    " \n",
    " \n",
    "\n",
    "\n"
   ]
  },
  {
   "cell_type": "code",
   "execution_count": 59,
   "metadata": {
    "collapsed": true
   },
   "outputs": [],
   "source": [
    "from statsmodels.base.model import GenericLikelihoodModel\n",
    "import statsmodels.api as sm\n",
    "import random\n",
    "import scipy.stats as stats\n",
    "import numpy as np"
   ]
  },
  {
   "cell_type": "markdown",
   "metadata": {},
   "source": [
    "#### Endog is array of m (no of informed neighbors)"
   ]
  },
  {
   "cell_type": "code",
   "execution_count": 60,
   "metadata": {
    "collapsed": true
   },
   "outputs": [],
   "source": [
    "exog = [2,3,4,1,2,1,2,3,4,1,2,3,4,5,1,2,3,4,5,2,1,1,3,2,2,2,3,4,5,6,7,8,2,4,7,8]"
   ]
  },
  {
   "cell_type": "markdown",
   "metadata": {},
   "source": [
    "#### get informed is the function that generates corresponding value give m , p (innovation param) and q (immitation param)"
   ]
  },
  {
   "cell_type": "code",
   "execution_count": 61,
   "metadata": {
    "collapsed": true
   },
   "outputs": [],
   "source": [
    "def get_informed(m, q):\n",
    "    \"\"\"\n",
    "\n",
    "    :param m: no of active neighbors\n",
    "    :param p: innovation param\n",
    "    :param q: immitation param\n",
    "    :return:\n",
    "    \"\"\"\n",
    "    p = 1 - pow((1 - q), m) # probability of adoption \n",
    "    u = random.uniform(0, 1)\n",
    "    if u < p:\n",
    "        return 1\n",
    "    return 0"
   ]
  },
  {
   "cell_type": "markdown",
   "metadata": {},
   "source": [
    "#### To create dummy (sample observed data) lets assume q = 0.2"
   ]
  },
  {
   "cell_type": "code",
   "execution_count": 62,
   "metadata": {
    "collapsed": false
   },
   "outputs": [
    {
     "name": "stdout",
     "output_type": "stream",
     "text": [
      "0.1\n",
      "0.2\n"
     ]
    }
   ],
   "source": [
    "p = 0.1\n",
    "q = 0.2\n",
    "print p\n",
    "print q"
   ]
  },
  {
   "cell_type": "markdown",
   "metadata": {},
   "source": [
    "#### create exog based on given m, p and q"
   ]
  },
  {
   "cell_type": "code",
   "execution_count": 63,
   "metadata": {
    "collapsed": false
   },
   "outputs": [
    {
     "name": "stdout",
     "output_type": "stream",
     "text": [
      "[1, 1, 1, 0, 1, 0, 1, 0, 1, 0, 1, 1, 0, 0, 0, 0, 0, 1, 0, 0, 0, 1, 1, 1, 1, 1, 0, 0, 1, 0, 1, 1, 0, 1, 1, 0]\n"
     ]
    }
   ],
   "source": [
    "endog = []\n",
    "for each_m in exog:\n",
    "    endog.append(get_informed(each_m, q))\n",
    "print endog"
   ]
  },
  {
   "cell_type": "code",
   "execution_count": 64,
   "metadata": {
    "collapsed": false
   },
   "outputs": [
    {
     "name": "stdout",
     "output_type": "stream",
     "text": [
      "exog: (value of m) [2, 3, 4, 1, 2, 1, 2, 3, 4, 1, 2, 3, 4, 5, 1, 2, 3, 4, 5, 2, 1, 1, 3, 2, 2, 2, 3, 4, 5, 6, 7, 8, 2, 4, 7, 8]\n",
      "endog: (adopted/ non adopted) [1, 1, 1, 0, 1, 0, 1, 0, 1, 0, 1, 1, 0, 0, 0, 0, 0, 1, 0, 0, 0, 1, 1, 1, 1, 1, 0, 0, 1, 0, 1, 1, 0, 1, 1, 0]\n"
     ]
    }
   ],
   "source": [
    "print \"exog: (value of m)\", exog\n",
    "print \"endog: (adopted/ non adopted)\", endog"
   ]
  },
  {
   "cell_type": "markdown",
   "metadata": {},
   "source": [
    "#### Now our  Aim is: \n",
    "- Given endog and exog (observed data) , can we estimate params p and q"
   ]
  },
  {
   "cell_type": "code",
   "execution_count": 65,
   "metadata": {
    "collapsed": false
   },
   "outputs": [
    {
     "name": "stdout",
     "output_type": "stream",
     "text": [
      "[[ 1.  2.]\n",
      " [ 1.  3.]\n",
      " [ 1.  4.]\n",
      " [ 1.  1.]\n",
      " [ 1.  2.]\n",
      " [ 1.  1.]\n",
      " [ 1.  2.]\n",
      " [ 1.  3.]\n",
      " [ 1.  4.]\n",
      " [ 1.  1.]\n",
      " [ 1.  2.]\n",
      " [ 1.  3.]\n",
      " [ 1.  4.]\n",
      " [ 1.  5.]\n",
      " [ 1.  1.]\n",
      " [ 1.  2.]\n",
      " [ 1.  3.]\n",
      " [ 1.  4.]\n",
      " [ 1.  5.]\n",
      " [ 1.  2.]\n",
      " [ 1.  1.]\n",
      " [ 1.  1.]\n",
      " [ 1.  3.]\n",
      " [ 1.  2.]\n",
      " [ 1.  2.]\n",
      " [ 1.  2.]\n",
      " [ 1.  3.]\n",
      " [ 1.  4.]\n",
      " [ 1.  5.]\n",
      " [ 1.  6.]\n",
      " [ 1.  7.]\n",
      " [ 1.  8.]\n",
      " [ 1.  2.]\n",
      " [ 1.  4.]\n",
      " [ 1.  7.]\n",
      " [ 1.  8.]]\n"
     ]
    }
   ],
   "source": [
    "exog = sm.add_constant(exog, prepend=True)\n",
    "print exog"
   ]
  },
  {
   "cell_type": "code",
   "execution_count": 66,
   "metadata": {
    "collapsed": true
   },
   "outputs": [],
   "source": [
    "# The loglike function is not correct yet \n",
    "class MyProbit(GenericLikelihoodModel):\n",
    "    def loglike(self, params):\n",
    "        exog = self.exog\n",
    "        endog = self.endog\n",
    "        r = 2*endog - 1\n",
    "        return stats.norm.logcdf(r*np.dot(exog, params)).sum()"
   ]
  },
  {
   "cell_type": "code",
   "execution_count": 67,
   "metadata": {
    "collapsed": false
   },
   "outputs": [
    {
     "name": "stdout",
     "output_type": "stream",
     "text": [
      "Optimization terminated successfully.\n",
      "         Current function value: 0.684524\n",
      "         Iterations: 44\n",
      "         Function evaluations: 83\n"
     ]
    }
   ],
   "source": [
    "sm_probit_manual = MyProbit(endog, exog).fit()"
   ]
  },
  {
   "cell_type": "code",
   "execution_count": 68,
   "metadata": {
    "collapsed": false
   },
   "outputs": [
    {
     "data": {
      "text/plain": [
       "array([-0.18235418,  0.076489  ])"
      ]
     },
     "execution_count": 68,
     "metadata": {},
     "output_type": "execute_result"
    }
   ],
   "source": [
    "sm_probit_manual.params"
   ]
  },
  {
   "cell_type": "code",
   "execution_count": 69,
   "metadata": {
    "collapsed": false
   },
   "outputs": [
    {
     "data": {
      "text/html": [
       "<table class=\"simpletable\">\n",
       "<caption>MyProbit Results</caption>\n",
       "<tr>\n",
       "  <th>Dep. Variable:</th>             <td>y</td>         <th>  Log-Likelihood:    </th> <td> -24.643</td>\n",
       "</tr>\n",
       "<tr>\n",
       "  <th>Model:</th>                 <td>MyProbit</td>      <th>  AIC:               </th> <td>   53.29</td>\n",
       "</tr>\n",
       "<tr>\n",
       "  <th>Method:</th>           <td>Maximum Likelihood</td> <th>  BIC:               </th> <td>   56.45</td>\n",
       "</tr>\n",
       "<tr>\n",
       "  <th>Date:</th>              <td>Wed, 07 Dec 2016</td>  <th>                     </th>     <td> </td>   \n",
       "</tr>\n",
       "<tr>\n",
       "  <th>Time:</th>                  <td>15:25:15</td>      <th>                     </th>     <td> </td>   \n",
       "</tr>\n",
       "<tr>\n",
       "  <th>No. Observations:</th>       <td>    36</td>       <th>                     </th>     <td> </td>   \n",
       "</tr>\n",
       "<tr>\n",
       "  <th>Df Residuals:</th>           <td>    34</td>       <th>                     </th>     <td> </td>   \n",
       "</tr>\n",
       "<tr>\n",
       "  <th>Df Model:</th>               <td>     1</td>       <th>                     </th>     <td> </td>   \n",
       "</tr>\n",
       "</table>\n",
       "<table class=\"simpletable\">\n",
       "<tr>\n",
       "    <td></td>       <th>coef</th>     <th>std err</th>      <th>z</th>      <th>P>|z|</th> <th>[95.0% Conf. Int.]</th> \n",
       "</tr>\n",
       "<tr>\n",
       "  <th>const</th> <td>   -0.1824</td> <td>    0.412</td> <td>   -0.443</td> <td> 0.658</td> <td>   -0.990     0.625</td>\n",
       "</tr>\n",
       "<tr>\n",
       "  <th>x1</th>    <td>    0.0765</td> <td>    0.108</td> <td>    0.710</td> <td> 0.478</td> <td>   -0.135     0.288</td>\n",
       "</tr>\n",
       "</table>"
      ],
      "text/plain": [
       "<class 'statsmodels.iolib.summary.Summary'>\n",
       "\"\"\"\n",
       "                               MyProbit Results                               \n",
       "==============================================================================\n",
       "Dep. Variable:                      y   Log-Likelihood:                -24.643\n",
       "Model:                       MyProbit   AIC:                             53.29\n",
       "Method:            Maximum Likelihood   BIC:                             56.45\n",
       "Date:                Wed, 07 Dec 2016                                         \n",
       "Time:                        15:25:15                                         \n",
       "No. Observations:                  36                                         \n",
       "Df Residuals:                      34                                         \n",
       "Df Model:                           1                                         \n",
       "==============================================================================\n",
       "                 coef    std err          z      P>|z|      [95.0% Conf. Int.]\n",
       "------------------------------------------------------------------------------\n",
       "const         -0.1824      0.412     -0.443      0.658        -0.990     0.625\n",
       "x1             0.0765      0.108      0.710      0.478        -0.135     0.288\n",
       "==============================================================================\n",
       "\"\"\""
      ]
     },
     "execution_count": 69,
     "metadata": {},
     "output_type": "execute_result"
    }
   ],
   "source": [
    "sm_probit_manual.summary()"
   ]
  },
  {
   "cell_type": "code",
   "execution_count": null,
   "metadata": {
    "collapsed": true
   },
   "outputs": [],
   "source": []
  }
 ],
 "metadata": {
  "kernelspec": {
   "display_name": "Python 2",
   "language": "python",
   "name": "python2"
  },
  "language_info": {
   "codemirror_mode": {
    "name": "ipython",
    "version": 2
   },
   "file_extension": ".py",
   "mimetype": "text/x-python",
   "name": "python",
   "nbconvert_exporter": "python",
   "pygments_lexer": "ipython2",
   "version": "2.7.10"
  }
 },
 "nbformat": 4,
 "nbformat_minor": 0
}
